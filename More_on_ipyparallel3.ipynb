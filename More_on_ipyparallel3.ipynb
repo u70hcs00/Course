{
 "cells": [
  {
   "cell_type": "code",
   "execution_count": 1,
   "metadata": {},
   "outputs": [],
   "source": [
    "import operator\n",
    "import numpy as np\n",
    "import pandas as pd\n",
    "import random\n",
    "# plotting\n",
    "import matplotlib as mpl\n",
    "from matplotlib import pyplot as plt\n",
    "import seaborn as sns\n",
    "%matplotlib inline\n",
    "sns.set_style('white')\n",
    "sns.set_context('talk')"
   ]
  },
  {
   "cell_type": "code",
   "execution_count": 2,
   "metadata": {},
   "outputs": [
    {
     "data": {
      "text/plain": [
       "[0, 1, 2, 3, 4]"
      ]
     },
     "execution_count": 2,
     "metadata": {},
     "output_type": "execute_result"
    }
   ],
   "source": [
    "import ipyparallel as ipp\n",
    "rc = ipp.Client()\n",
    "rc.ids"
   ]
  },
  {
   "cell_type": "code",
   "execution_count": 3,
   "metadata": {},
   "outputs": [],
   "source": [
    "dview = rc[:]\n",
    "lbview = rc.load_balanced_view()"
   ]
  },
  {
   "cell_type": "code",
   "execution_count": 4,
   "metadata": {},
   "outputs": [
    {
     "name": "stdout",
     "output_type": "stream",
     "text": [
      "15448\n",
      "[stdout:0] 12388\n",
      "[stdout:1] 7104\n",
      "[stdout:2] 16412\n",
      "[stdout:3] 8348\n",
      "[stdout:4] 22316\n"
     ]
    }
   ],
   "source": [
    "%%px  --local \n",
    "from time import sleep\n",
    "from datetime import datetime\n",
    "import random\n",
    "import os\n",
    "pid = os.getpid()  # every engines will be different\n",
    "print(pid)"
   ]
  },
  {
   "cell_type": "code",
   "execution_count": 5,
   "metadata": {},
   "outputs": [],
   "source": [
    "engines_pid = dview.get('pid')\n",
    "pid_id_map = {pid: id for pid, id in zip(engines_pid, rc.ids)}"
   ]
  },
  {
   "cell_type": "code",
   "execution_count": 6,
   "metadata": {},
   "outputs": [
    {
     "name": "stdout",
     "output_type": "stream",
     "text": [
      "[12388, 7104, 16412, 8348, 22316]\n",
      "{12388: 0, 7104: 1, 16412: 2, 8348: 3, 22316: 4}\n"
     ]
    }
   ],
   "source": [
    "print(engines_pid)\n",
    "print(pid_id_map)"
   ]
  },
  {
   "cell_type": "code",
   "execution_count": 7,
   "metadata": {},
   "outputs": [],
   "source": [
    "num_engines = len(rc.ids)\n",
    "total_works = num_engines * 5 + 2\n",
    "\n",
    "def high_variated_work(i):\n",
    "    start_time = datetime.now()\n",
    "    base_workload = 10\n",
    "    if i  < (total_works // num_engines):\n",
    "        base_workload *= 5\n",
    "    # so short task: 200ms long task: 1s\n",
    "    sleep(base_workload * 20 / 1000)\n",
    "    end_time = datetime.now()\n",
    "    return pid, start_time, end_time"
   ]
  },
  {
   "cell_type": "code",
   "execution_count": 8,
   "metadata": {},
   "outputs": [],
   "source": [
    "dview['num_engines'] = num_engines\n",
    "dview['total_works'] = total_works"
   ]
  },
  {
   "cell_type": "code",
   "execution_count": 9,
   "metadata": {},
   "outputs": [],
   "source": [
    "# lb: load balance, ar: async result\n",
    "lb_ar = lbview.map_async(high_variated_work, range(total_works))"
   ]
  },
  {
   "cell_type": "code",
   "execution_count": 10,
   "metadata": {},
   "outputs": [
    {
     "name": "stdout",
     "output_type": "stream",
     "text": [
      "\n",
      "done\n"
     ]
    }
   ],
   "source": [
    "lb_ar.wait_interactive()"
   ]
  },
  {
   "cell_type": "code",
   "execution_count": 11,
   "metadata": {},
   "outputs": [],
   "source": [
    "# d: direct\n",
    "d_ar = dview.map_async(high_variated_work, range(total_works))"
   ]
  },
  {
   "cell_type": "code",
   "execution_count": 12,
   "metadata": {},
   "outputs": [
    {
     "name": "stdout",
     "output_type": "stream",
     "text": [
      "\n",
      "done\n"
     ]
    }
   ],
   "source": [
    "d_ar.wait_interactive()"
   ]
  },
  {
   "cell_type": "code",
   "execution_count": 13,
   "metadata": {},
   "outputs": [],
   "source": [
    "def parse_async_meta(async_result):\n",
    "    \"\"\"Parse async result as pandas.DataFrame\"\"\"\n",
    "    meta_df = pd.DataFrame(async_result.get(), columns=['engine_pid', 'started', 'completed'])\n",
    "    meta_df['engine_id'] = meta_df['engine_pid'].map(pid_id_map)\n",
    "    return meta_df"
   ]
  },
  {
   "cell_type": "code",
   "execution_count": 14,
   "metadata": {},
   "outputs": [],
   "source": [
    "def make_rel_time(meta_df):\n",
    "    \"\"\"Convert exact timestamp relative to start time and sort.\"\"\"\n",
    "    def compute_rel_time(col):\n",
    "        \"\"\"Relative time elapse compared with start time in seconds\"\"\"\n",
    "        return [(val - start_time).total_seconds() for val in col]\n",
    "    \n",
    "    ## Make all time data relative to the start time in seconds\n",
    "    # create empty dataframe\n",
    "    df_rel_sec = meta_df[['engine_id']].copy()\n",
    "    rel_columns = ['rel_started', 'rel_completed']\n",
    "    for col in rel_columns:\n",
    "        df_rel_sec[col] = np.empty(len(df_rel_sec), np.float)\n",
    "        \n",
    "    # get the earliest start time\n",
    "    start_time = meta_df.started.min()\n",
    "    abs_time_data = meta_df[['started', 'completed']]\n",
    "    rel_time_data = abs_time_data.apply(compute_rel_time, axis=0).values\n",
    "    df_rel_sec.loc[:, rel_columns] = rel_time_data\n",
    "    \n",
    "    # sort by relative start time and given order, \n",
    "    # grouped by different engines\n",
    "    sorted_df = df_rel_sec.sort_values(['engine_id', 'rel_started', 'rel_completed'])\n",
    "    sorted_df['order'] = np.empty(len(sorted_df), np.int)\n",
    "    for grp_key, grp_df in sorted_df.groupby(['engine_id']):\n",
    "        sorted_df.loc[grp_df.index, 'order'] = np.arange(len(grp_df))\n",
    "    \n",
    "    return sorted_df"
   ]
  },
  {
   "cell_type": "code",
   "execution_count": 15,
   "metadata": {},
   "outputs": [],
   "source": [
    "def get_color_pal(max_jobs_per_engines):\n",
    "    color_pal = sns.cubehelix_palette(\n",
    "        n_colors=max_jobs_per_engines,\n",
    "        start=2.3, rot=0.8, gamma=0.6, hue=0.8, \n",
    "        light=0.9, dark=0.3, \n",
    "        reverse=True\n",
    "    )\n",
    "    return color_pal\n",
    "\n",
    "\n",
    "def plot_meta_df(meta_df, figsize=None):\n",
    "    # some boundaries required for plotting\n",
    "    max_jobs_per_engines = meta_df['order'].max() + 1\n",
    "    num_engines = len(np.unique(meta_df['engine_id']))\n",
    "    color_pal = get_color_pal(max_jobs_per_engines)\n",
    "    \n",
    "    if figsize is not None:\n",
    "        fig = plt.figure(figsize=figsize)\n",
    "    else:\n",
    "        fig = plt.figure(figsize=(max_jobs_per_engines * 6 * 2 / 6, 6))\n",
    "    ax = plt.axes()\n",
    "    bar_height = 0.8\n",
    "    for ix, row in meta_df.iterrows():\n",
    "        plt.bar(\n",
    "            bottom=int(row.engine_id) , x=row.rel_started + 0.5, \n",
    "            width=row.rel_completed - row.rel_started, height=bar_height,\n",
    "            color=color_pal[int(row['order'])], axes=ax\n",
    "        )\n",
    "    plt.xlabel('Time (second)')\n",
    "    plt.ylabel('Engine')\n",
    "    plt.yticks(\n",
    "        np.arange(num_engines) + bar_height / 2, \n",
    "        ['%2d' % ix for ix in np.arange(num_engines)]\n",
    "    )\n",
    "    return fig"
   ]
  },
  {
   "cell_type": "code",
   "execution_count": 16,
   "metadata": {},
   "outputs": [],
   "source": [
    "lb_ar_df, d_ar_df = map(make_rel_time, map(parse_async_meta, [lb_ar, d_ar]))"
   ]
  },
  {
   "cell_type": "code",
   "execution_count": 17,
   "metadata": {},
   "outputs": [
    {
     "data": {
      "image/png": "[encoded data removed]",
      "text/plain": [
       "<Figure size 864x432 with 1 Axes>"
      ]
     },
     "metadata": {
      "needs_background": "light"
     },
     "output_type": "display_data"
    }
   ],
   "source": [
    "fig = plot_meta_df(lb_ar_df)\n",
    "plt.title('Load balanced IPython parallel job timetable')\n",
    "plt.show()"
   ]
  },
  {
   "cell_type": "code",
   "execution_count": 18,
   "metadata": {},
   "outputs": [
    {
     "data": {
      "image/png": "[encoded data removed]",
      "text/plain": [
       "<Figure size 864x432 with 1 Axes>"
      ]
     },
     "metadata": {
      "needs_background": "light"
     },
     "output_type": "display_data"
    }
   ],
   "source": [
    "fig = plot_meta_df(d_ar_df)\n",
    "plt.title('Direct view IPython parallel job timetable')\n",
    "plt.show()"
   ]
  },
  {
   "cell_type": "code",
   "execution_count": 19,
   "metadata": {},
   "outputs": [
    {
     "name": "stdout",
     "output_type": "stream",
     "text": [
      "Speedup for load-blanced and direct view (ideal: 5x): 4.64 and 1.81\n"
     ]
    }
   ],
   "source": [
    "speedup = lambda ar: ar.serial_time / ar.wall_time\n",
    "print(\n",
    "    'Speedup for load-blanced and direct view (ideal: {:d}x): {:.2f} and {:.2f}'\n",
    "    .format(num_engines, *map(speedup, [lb_ar, d_ar]))\n",
    ")"
   ]
  },
  {
   "cell_type": "code",
   "execution_count": 25,
   "metadata": {},
   "outputs": [],
   "source": [
    "import os\n",
    "ar = rc[:].apply_async(os.getpid)"
   ]
  },
  {
   "cell_type": "code",
   "execution_count": 26,
   "metadata": {},
   "outputs": [
    {
     "data": {
      "text/plain": [
       "True"
      ]
     },
     "execution_count": 26,
     "metadata": {},
     "output_type": "execute_result"
    }
   ],
   "source": [
    "ar.wait()"
   ]
  },
  {
   "cell_type": "code",
   "execution_count": 27,
   "metadata": {},
   "outputs": [],
   "source": [
    "pids = ar.get_dict()"
   ]
  },
  {
   "cell_type": "code",
   "execution_count": 28,
   "metadata": {},
   "outputs": [
    {
     "name": "stdout",
     "output_type": "stream",
     "text": [
      "{0: 12388, 1: 7104, 2: 16412, 3: 8348, 4: 22316}\n"
     ]
    }
   ],
   "source": [
    "print(pids)"
   ]
  },
  {
   "cell_type": "code",
   "execution_count": null,
   "metadata": {},
   "outputs": [],
   "source": []
  }
 ],
 "metadata": {
  "kernelspec": {
   "display_name": "Python 3",
   "language": "python",
   "name": "python3"
  },
  "language_info": {
   "codemirror_mode": {
    "name": "ipython",
    "version": 3
   },
   "file_extension": ".py",
   "mimetype": "text/x-python",
   "name": "python",
   "nbconvert_exporter": "python",
   "pygments_lexer": "ipython3",
   "version": "3.6.11"
  }
 },
 "nbformat": 4,
 "nbformat_minor": 4
}
