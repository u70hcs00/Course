{
 "cells": [
  {
   "cell_type": "code",
   "execution_count": 1,
   "metadata": {},
   "outputs": [],
   "source": [
    "import ipyparallel as ipp\n",
    "import math"
   ]
  },
  {
   "cell_type": "code",
   "execution_count": 2,
   "metadata": {},
   "outputs": [],
   "source": [
    "c = ipp.Client()"
   ]
  },
  {
   "cell_type": "code",
   "execution_count": 3,
   "metadata": {},
   "outputs": [
    {
     "data": {
      "text/plain": [
       "[0, 1, 2, 3]"
      ]
     },
     "execution_count": 3,
     "metadata": {},
     "output_type": "execute_result"
    }
   ],
   "source": [
    "c.ids"
   ]
  },
  {
   "cell_type": "code",
   "execution_count": 4,
   "metadata": {},
   "outputs": [],
   "source": [
    "dview = c[:] "
   ]
  },
  {
   "cell_type": "code",
   "execution_count": 5,
   "metadata": {},
   "outputs": [
    {
     "data": {
      "text/plain": [
       "<AsyncResult: _push>"
      ]
     },
     "execution_count": 5,
     "metadata": {},
     "output_type": "execute_result"
    }
   ],
   "source": [
    "# In IPython, these operations are called push() \n",
    "# (sending an object to the engines) \n",
    "# and pull() (getting an object from the engines).\n",
    "dview.push(dict(a=1.03234, b=3453))"
   ]
  },
  {
   "cell_type": "code",
   "execution_count": 6,
   "metadata": {},
   "outputs": [
    {
     "data": {
      "text/plain": [
       "[1.03234, 1.03234, 1.03234, 1.03234]"
      ]
     },
     "execution_count": 6,
     "metadata": {},
     "output_type": "execute_result"
    }
   ],
   "source": [
    "dview.pull('a', block=True)"
   ]
  },
  {
   "cell_type": "code",
   "execution_count": 7,
   "metadata": {},
   "outputs": [
    {
     "data": {
      "text/plain": [
       "[[1.03234, 3453], [1.03234, 3453], [1.03234, 3453], [1.03234, 3453]]"
      ]
     },
     "execution_count": 7,
     "metadata": {},
     "output_type": "execute_result"
    }
   ],
   "source": [
    "dview.pull(['a', 'b'], block=True)"
   ]
  },
  {
   "cell_type": "code",
   "execution_count": 8,
   "metadata": {},
   "outputs": [
    {
     "data": {
      "text/plain": [
       "3453"
      ]
     },
     "execution_count": 8,
     "metadata": {},
     "output_type": "execute_result"
    }
   ],
   "source": [
    "dview.pull('b', targets=0, block=True)"
   ]
  },
  {
   "cell_type": "code",
   "execution_count": 9,
   "metadata": {},
   "outputs": [],
   "source": [
    "for i in range(4):\n",
    "    dview.push(dict(a=i, b=i ** 2 + 1), targets=i)"
   ]
  },
  {
   "cell_type": "code",
   "execution_count": 10,
   "metadata": {},
   "outputs": [
    {
     "data": {
      "text/plain": [
       "[0, 1, 2, 3]"
      ]
     },
     "execution_count": 10,
     "metadata": {},
     "output_type": "execute_result"
    }
   ],
   "source": [
    "dview.pull('a', block=True)"
   ]
  },
  {
   "cell_type": "code",
   "execution_count": 11,
   "metadata": {},
   "outputs": [
    {
     "data": {
      "text/plain": [
       "[1, 2, 5, 10]"
      ]
     },
     "execution_count": 11,
     "metadata": {},
     "output_type": "execute_result"
    }
   ],
   "source": [
    "dview.pull('b', block=True)"
   ]
  },
  {
   "cell_type": "code",
   "execution_count": 12,
   "metadata": {},
   "outputs": [
    {
     "data": {
      "text/plain": [
       "<AsyncResult: scatter>"
      ]
     },
     "execution_count": 12,
     "metadata": {},
     "output_type": "execute_result"
    }
   ],
   "source": [
    "# scatter() is from the interactive IPython session to the engines \n",
    "dview.scatter('c', range(28))"
   ]
  },
  {
   "cell_type": "code",
   "execution_count": 13,
   "metadata": {},
   "outputs": [
    {
     "data": {
      "text/plain": [
       "[range(0, 7), range(7, 14), range(14, 21), range(21, 28)]"
      ]
     },
     "execution_count": 13,
     "metadata": {},
     "output_type": "execute_result"
    }
   ],
   "source": [
    "dview['c']"
   ]
  },
  {
   "cell_type": "code",
   "execution_count": 14,
   "metadata": {},
   "outputs": [],
   "source": [
    "# gather() is from the engines back to the interactive IPython session.\n",
    "ar = dview.gather('c', block=True)"
   ]
  },
  {
   "cell_type": "code",
   "execution_count": 15,
   "metadata": {},
   "outputs": [
    {
     "name": "stdout",
     "output_type": "stream",
     "text": [
      "9\n"
     ]
    }
   ],
   "source": [
    "print(ar[1][2])"
   ]
  },
  {
   "cell_type": "code",
   "execution_count": 16,
   "metadata": {},
   "outputs": [],
   "source": [
    "# @remote, which calls the function on every engine of a view.\n",
    "@dview.remote(block=True)\n",
    "def getpid():\n",
    "    import os\n",
    "    return os.getpid()"
   ]
  },
  {
   "cell_type": "code",
   "execution_count": 17,
   "metadata": {},
   "outputs": [
    {
     "data": {
      "text/plain": [
       "[9380, 25412, 17108, 10624]"
      ]
     },
     "execution_count": 17,
     "metadata": {},
     "output_type": "execute_result"
    }
   ],
   "source": [
    "getpid()"
   ]
  },
  {
   "cell_type": "code",
   "execution_count": 18,
   "metadata": {
    "scrolled": true
   },
   "outputs": [
    {
     "data": {
      "text/plain": [
       "['Hello world from 0 out of 4 !',\n",
       " 'Hello world from 1 out of 4 !',\n",
       " 'Hello world from 2 out of 4 !',\n",
       " 'Hello world from 3 out of 4 !']"
      ]
     },
     "execution_count": 18,
     "metadata": {},
     "output_type": "execute_result"
    }
   ],
   "source": [
    "# Hello world ! Again\n",
    "n = len(c)\n",
    "for i in range(n):\n",
    "    dview.push(dict(npes=n, myrank=i), targets=i)\n",
    "    \n",
    "@dview.remote(block=True)\n",
    "def hello():\n",
    "    return \"Hello world from %i out of %i !\" %(myrank, npes)\n",
    "\n",
    "hello()"
   ]
  },
  {
   "cell_type": "code",
   "execution_count": 19,
   "metadata": {},
   "outputs": [
    {
     "name": "stdout",
     "output_type": "stream",
     "text": [
      "{'three': 3, 'ninety': 90, 'two': 2, 'one': 1}\n",
      "<class 'dict'>\n"
     ]
    },
    {
     "data": {
      "text/plain": [
       "[(1, 90), (1, 90), (1, 90), (1, 90)]"
      ]
     },
     "execution_count": 19,
     "metadata": {},
     "output_type": "execute_result"
    }
   ],
   "source": [
    "# A bit on dictionary\n",
    "number = {'three': 3, 'ninety': 90, 'two': 2, 'one': 1}\n",
    "print(number)\n",
    "dview.push(number)\n",
    "\n",
    "print(type(number))\n",
    "\n",
    "\n",
    "@dview.remote(block=True)\n",
    "def dict_num():\n",
    "    return one, ninety\n",
    "\n",
    "dict_num()"
   ]
  },
  {
   "cell_type": "code",
   "execution_count": 20,
   "metadata": {},
   "outputs": [],
   "source": [
    "# We are adding 'c' which we need to scatter\n",
    "# among all engines before we call this function.\n",
    "@dview.remote(block=True)\n",
    "def local_sum():\n",
    "    return sum(c)\n",
    "\n",
    "\n",
    "# mu is the mean\n",
    "@dview.remote(block=True)\n",
    "def local_var_sum_arg(mu):\n",
    "    l_sum = 0\n",
    "    for i in c:\n",
    "        l_sum += (i - mu)**2\n",
    "    return l_sum\n"
   ]
  },
  {
   "cell_type": "code",
   "execution_count": 21,
   "metadata": {},
   "outputs": [
    {
     "name": "stdout",
     "output_type": "stream",
     "text": [
      "Partial sum [21, 70, 119, 168]\n",
      "Gobal sum 378\n",
      "Mean 13.5\n",
      "Partial variance sum [799.75, 113.75, 113.75, 799.75]\n",
      "Variance =  8.077747210701755\n"
     ]
    }
   ],
   "source": [
    "l_sum = local_sum()\n",
    "print('Partial sum', l_sum)\n",
    "g_sum = sum(l_sum)\n",
    "\n",
    "print('Gobal sum', g_sum)\n",
    "\n",
    "gmu = g_sum/28\n",
    "print('Mean', gmu)\n",
    "\n",
    "l_sum = local_var_sum_arg(gmu)\n",
    "print('Partial variance sum', l_sum)\n",
    "g_sum  = sum(l_sum)\n",
    "g_var = math.sqrt(g_sum/28)\n",
    "print('Variance = ', g_var)\n"
   ]
  },
  {
   "cell_type": "code",
   "execution_count": 22,
   "metadata": {},
   "outputs": [],
   "source": [
    "# How about synchronization ?\n",
    "@dview.remote(block=False)\n",
    "def eng_wait():\n",
    "    import time\n",
    "    time.sleep(myrank*10)\n",
    "    a = myrank \n",
    "    return a"
   ]
  },
  {
   "cell_type": "code",
   "execution_count": 23,
   "metadata": {},
   "outputs": [
    {
     "data": {
      "text/plain": [
       "[0, 1, 2, 3]"
      ]
     },
     "execution_count": 23,
     "metadata": {},
     "output_type": "execute_result"
    }
   ],
   "source": [
    "dview.pull('a', block=True)"
   ]
  },
  {
   "cell_type": "code",
   "execution_count": 24,
   "metadata": {},
   "outputs": [],
   "source": [
    "ar = eng_wait()"
   ]
  },
  {
   "cell_type": "code",
   "execution_count": 25,
   "metadata": {},
   "outputs": [
    {
     "data": {
      "text/plain": [
       "True"
      ]
     },
     "execution_count": 25,
     "metadata": {},
     "output_type": "execute_result"
    }
   ],
   "source": [
    "ar.wait()"
   ]
  },
  {
   "cell_type": "code",
   "execution_count": 26,
   "metadata": {},
   "outputs": [
    {
     "data": {
      "text/plain": [
       "30720"
      ]
     },
     "execution_count": 26,
     "metadata": {},
     "output_type": "execute_result"
    }
   ],
   "source": [
    "import numpy as np\n",
    "import time\n",
    "A = np.random.random((640,48))\n",
    "# 640x48\n",
    "A.size"
   ]
  },
  {
   "cell_type": "code",
   "execution_count": 27,
   "metadata": {},
   "outputs": [],
   "source": [
    "@dview.parallel(block=True)\n",
    "def pmul(A,B):\n",
    "    return A*B"
   ]
  },
  {
   "cell_type": "code",
   "execution_count": 28,
   "metadata": {},
   "outputs": [
    {
     "name": "stdout",
     "output_type": "stream",
     "text": [
      "serial run time: 0.0 seconds\n"
     ]
    }
   ],
   "source": [
    "t1 = time.time()\n",
    "C_local = A*A\n",
    "t2 = time.time()\n",
    "print('serial run time: ' + str(t2-t1) + ' seconds')"
   ]
  },
  {
   "cell_type": "code",
   "execution_count": 29,
   "metadata": {},
   "outputs": [
    {
     "name": "stdout",
     "output_type": "stream",
     "text": [
      "parallel run time: 0.01632237434387207 seconds\n"
     ]
    }
   ],
   "source": [
    "t1 = time.time()\n",
    "C_remote = pmul(A,A)\n",
    "t2 = time.time()\n",
    "print('parallel run time: ' + str(t2-t1) + ' seconds')"
   ]
  },
  {
   "cell_type": "code",
   "execution_count": 30,
   "metadata": {},
   "outputs": [
    {
     "name": "stdout",
     "output_type": "stream",
     "text": [
      "511984000\n",
      "parallel run time: 12.908416509628296 seconds\n"
     ]
    }
   ],
   "source": [
    "dview.block=False\n",
    "dview.scatter('x',range(32000))\n",
    "\n",
    "t1 = time.time()\n",
    "%px y = sum(x)\n",
    "%px for i in range(10 ** 8): i+=1\n",
    "    \n",
    "y = dview.gather('y')\n",
    "global_sum = sum(y)\n",
    "\n",
    "t2 = time.time()\n",
    "print(global_sum)\n",
    "\n",
    "print('parallel run time: ' + str(t2-t1) + ' seconds')"
   ]
  },
  {
   "cell_type": "code",
   "execution_count": 31,
   "metadata": {},
   "outputs": [
    {
     "name": "stdout",
     "output_type": "stream",
     "text": [
      "511984000\n",
      "serial run time: 29.158934831619263 seconds\n"
     ]
    }
   ],
   "source": [
    "xx = list(range(32000))\n",
    "# print(x)\n",
    "t1 = time.time()\n",
    "for i in range(4* 10 ** 8): i+=1\n",
    "global_sum =  sum(xx)\n",
    "# print(y)\n",
    "t2 = time.time()\n",
    "print(global_sum)\n",
    "print('serial run time: ' + str(t2-t1) + ' seconds')"
   ]
  },
  {
   "cell_type": "code",
   "execution_count": 32,
   "metadata": {},
   "outputs": [
    {
     "name": "stdout",
     "output_type": "stream",
     "text": [
      "importing numpy on engine(s)\n"
     ]
    }
   ],
   "source": [
    "with c[:].sync_imports():\n",
    "    import numpy "
   ]
  },
  {
   "cell_type": "code",
   "execution_count": 33,
   "metadata": {},
   "outputs": [
    {
     "name": "stdout",
     "output_type": "stream",
     "text": [
      "[stdout:0] Hello world!\n",
      "[stdout:1] Hello world!\n",
      "[stdout:2] Hello world!\n",
      "[stdout:3] Hello world!\n"
     ]
    }
   ],
   "source": [
    "%px print('Hello world!')"
   ]
  },
  {
   "cell_type": "code",
   "execution_count": 34,
   "metadata": {},
   "outputs": [],
   "source": [
    "%px a = numpy.random.rand(2,2)"
   ]
  },
  {
   "cell_type": "code",
   "execution_count": 35,
   "metadata": {},
   "outputs": [
    {
     "name": "stdout",
     "output_type": "stream",
     "text": [
      "[stdout:0] \n",
      "[[0.42779427 0.83440024]\n",
      " [0.78218275 0.30065563]]\n",
      "[stdout:1] \n",
      "[[0.42862407 0.44256371]\n",
      " [0.4952116  0.42952997]]\n",
      "[stdout:2] \n",
      "[[0.35026195 0.78519812]\n",
      " [0.34888439 0.39908556]]\n",
      "[stdout:3] \n",
      "[[0.91330415 0.86295018]\n",
      " [0.28620637 0.27678103]]\n"
     ]
    },
    {
     "data": {
      "text/plain": [
       "\u001b[0;31mOut[0:6]: \u001b[0marray([ 1.17459186, -0.44614196])"
      ]
     },
     "metadata": {
      "after": [],
      "completed": "2021-01-12T04:32:08.869189",
      "data": {},
      "engine_id": 0,
      "engine_uuid": "af0df224-4b3bdf19a8982f6155d59618",
      "error": null,
      "execute_input": "numpy.linalg.eigvals(a)",
      "execute_result": {
       "data": {
        "text/plain": "array([ 1.17459186, -0.44614196])"
       },
       "execution_count": 6,
       "metadata": {}
      },
      "follow": [],
      "msg_id": "ce92e890-3336a623002595eb161ce24a_110",
      "outputs": [],
      "received": "2021-01-12T04:32:08.872177",
      "started": "2021-01-12T04:32:08.862468",
      "status": "ok",
      "stderr": "",
      "stdout": "",
      "submitted": "2021-01-12T04:32:08.860473"
     },
     "output_type": "display_data"
    },
    {
     "data": {
      "text/plain": [
       "\u001b[0;31mOut[1:6]: \u001b[0marray([-0.03907134,  0.89722538])"
      ]
     },
     "metadata": {
      "after": [],
      "completed": "2021-01-12T04:32:08.870182",
      "data": {},
      "engine_id": 1,
      "engine_uuid": "08da7dd3-75e90e4b5db2e4019f6cf282",
      "error": null,
      "execute_input": "numpy.linalg.eigvals(a)",
      "execute_result": {
       "data": {
        "text/plain": "array([-0.03907134,  0.89722538])"
       },
       "execution_count": 6,
       "metadata": {}
      },
      "follow": [],
      "msg_id": "ce92e890-3336a623002595eb161ce24a_111",
      "outputs": [],
      "received": "2021-01-12T04:32:08.872177",
      "started": "2021-01-12T04:32:08.862468",
      "status": "ok",
      "stderr": "",
      "stdout": "",
      "submitted": "2021-01-12T04:32:08.861471"
     },
     "output_type": "display_data"
    },
    {
     "data": {
      "text/plain": [
       "\u001b[0;31mOut[2:6]: \u001b[0marray([-0.14929122,  0.89863874])"
      ]
     },
     "metadata": {
      "after": [],
      "completed": "2021-01-12T04:32:08.871179",
      "data": {},
      "engine_id": 2,
      "engine_uuid": "dd882645-1eaded029c36fc50388f7517",
      "error": null,
      "execute_input": "numpy.linalg.eigvals(a)",
      "execute_result": {
       "data": {
        "text/plain": "array([-0.14929122,  0.89863874])"
       },
       "execution_count": 6,
       "metadata": {}
      },
      "follow": [],
      "msg_id": "ce92e890-3336a623002595eb161ce24a_112",
      "outputs": [],
      "received": "2021-01-12T04:32:08.873175",
      "started": "2021-01-12T04:32:08.863465",
      "status": "ok",
      "stderr": "",
      "stdout": "",
      "submitted": "2021-01-12T04:32:08.861471"
     },
     "output_type": "display_data"
    },
    {
     "data": {
      "text/plain": [
       "\u001b[0;31mOut[3:6]: \u001b[0marray([1.18518855, 0.00489662])"
      ]
     },
     "metadata": {
      "after": [],
      "completed": "2021-01-12T04:32:08.871179",
      "data": {},
      "engine_id": 3,
      "engine_uuid": "60b55cf8-44974e87e765c037c8d22450",
      "error": null,
      "execute_input": "numpy.linalg.eigvals(a)",
      "execute_result": {
       "data": {
        "text/plain": "array([1.18518855, 0.00489662])"
       },
       "execution_count": 6,
       "metadata": {}
      },
      "follow": [],
      "msg_id": "ce92e890-3336a623002595eb161ce24a_113",
      "outputs": [],
      "received": "2021-01-12T04:32:08.874173",
      "started": "2021-01-12T04:32:08.863465",
      "status": "ok",
      "stderr": "",
      "stdout": "",
      "submitted": "2021-01-12T04:32:08.861471"
     },
     "output_type": "display_data"
    }
   ],
   "source": [
    "%px print(a)\n",
    "%px numpy.linalg.eigvals(a)   "
   ]
  },
  {
   "cell_type": "code",
   "execution_count": 36,
   "metadata": {},
   "outputs": [
    {
     "name": "stdout",
     "output_type": "stream",
     "text": [
      "[stdout:0] Populating the interactive namespace from numpy and matplotlib\n",
      "[stdout:1] Populating the interactive namespace from numpy and matplotlib\n",
      "[stdout:2] Populating the interactive namespace from numpy and matplotlib\n",
      "[stdout:3] Populating the interactive namespace from numpy and matplotlib\n"
     ]
    }
   ],
   "source": [
    "# The %pylab inline specifies that figures should be   \n",
    "# shown inline, directly in the notebook. \n",
    "%px %pylab inline"
   ]
  },
  {
   "cell_type": "code",
   "execution_count": 37,
   "metadata": {},
   "outputs": [],
   "source": [
    "%px x = np.linspace(0, 20, 1000)  \n",
    "# 1000 evenly-spaced values from 0 to 20\n",
    "%px y = np.sin(x)"
   ]
  },
  {
   "cell_type": "code",
   "execution_count": 38,
   "metadata": {},
   "outputs": [
    {
     "data": {
      "image/png": "[encoded data removed]",
      "text/plain": [
       "<Figure size 432x288 with 1 Axes>"
      ]
     },
     "metadata": {
      "engine": 0,
      "needs_background": "light"
     },
     "output_type": "display_data"
    },
    {
     "data": {
      "text/plain": [
       "\u001b[0;31mOut[0:10]: \u001b[0m[<matplotlib.lines.Line2D at 0x1052d90ef28>]"
      ]
     },
     "metadata": {
      "after": [],
      "completed": "2021-01-12T04:32:09.323130",
      "data": {},
      "engine_id": 0,
      "engine_uuid": "af0df224-4b3bdf19a8982f6155d59618",
      "error": null,
      "execute_input": "pylab.plot(x, y)",
      "execute_result": {
       "data": {
        "text/plain": "[<matplotlib.lines.Line2D at 0x1052d90ef28>]"
       },
       "execution_count": 10,
       "metadata": {}
      },
      "follow": [],
      "msg_id": "ce92e890-3336a623002595eb161ce24a_126",
      "outputs": [
       {
        "data": {
         "image/png": "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\n",
         "text/plain": "<Figure size 432x288 with 1 Axes>"
        },
        "metadata": {
         "engine": 0,
         "needs_background": "light"
        },
        "transient": {}
       }
      ],
      "received": "2021-01-12T04:32:09.324128",
      "started": "2021-01-12T04:32:09.190794",
      "status": "ok",
      "stderr": "",
      "stdout": "",
      "submitted": "2021-01-12T04:32:09.189577"
     },
     "output_type": "display_data"
    }
   ],
   "source": [
    "%%px --target 0 \n",
    "pylab.plot(x, y)"
   ]
  },
  {
   "cell_type": "code",
   "execution_count": 39,
   "metadata": {},
   "outputs": [
    {
     "name": "stdout",
     "output_type": "stream",
     "text": [
      "[stdout:0] I am even\n",
      "[stdout:2] I am even\n"
     ]
    }
   ],
   "source": [
    "%%px --targets ::2\n",
    "print(\"I am even\")"
   ]
  },
  {
   "cell_type": "code",
   "execution_count": 40,
   "metadata": {},
   "outputs": [
    {
     "data": {
      "text/plain": [
       "<AsyncResult: execute>"
      ]
     },
     "execution_count": 40,
     "metadata": {},
     "output_type": "execute_result"
    }
   ],
   "source": [
    "%%px --noblock\n",
    "import time\n",
    "time.sleep(1)\n",
    "time.time()"
   ]
  },
  {
   "cell_type": "code",
   "execution_count": 41,
   "metadata": {},
   "outputs": [
    {
     "data": {
      "text/plain": [
       "\u001b[0;31mOut[0:12]: \u001b[0m1610425930.3477736"
      ]
     },
     "metadata": {
      "after": [],
      "completed": "2021-01-12T04:32:10.349105",
      "data": {},
      "engine_id": 0,
      "engine_uuid": "af0df224-4b3bdf19a8982f6155d59618",
      "error": null,
      "execute_input": "import time\ntime.sleep(1)\ntime.time()",
      "execute_result": {
       "data": {
        "text/plain": "1610425930.3477736"
       },
       "execution_count": 12,
       "metadata": {}
      },
      "follow": [],
      "msg_id": "ce92e890-3336a623002595eb161ce24a_129",
      "outputs": [],
      "received": "2021-01-12T04:32:10.350856",
      "started": "2021-01-12T04:32:09.346340",
      "status": "ok",
      "stderr": "",
      "stdout": "",
      "submitted": "2021-01-12T04:32:09.344345"
     },
     "output_type": "display_data"
    },
    {
     "data": {
      "text/plain": [
       "\u001b[0;31mOut[1:10]: \u001b[0m1610425930.3491056"
      ]
     },
     "metadata": {
      "after": [],
      "completed": "2021-01-12T04:32:10.349866",
      "data": {},
      "engine_id": 1,
      "engine_uuid": "08da7dd3-75e90e4b5db2e4019f6cf282",
      "error": null,
      "execute_input": "import time\ntime.sleep(1)\ntime.time()",
      "execute_result": {
       "data": {
        "text/plain": "1610425930.3491056"
       },
       "execution_count": 10,
       "metadata": {}
      },
      "follow": [],
      "msg_id": "ce92e890-3336a623002595eb161ce24a_130",
      "outputs": [],
      "received": "2021-01-12T04:32:10.352852",
      "started": "2021-01-12T04:32:09.347336",
      "status": "ok",
      "stderr": "",
      "stdout": "",
      "submitted": "2021-01-12T04:32:09.344345"
     },
     "output_type": "display_data"
    },
    {
     "data": {
      "text/plain": [
       "\u001b[0;31mOut[2:11]: \u001b[0m1610425930.3498662"
      ]
     },
     "metadata": {
      "after": [],
      "completed": "2021-01-12T04:32:10.350856",
      "data": {},
      "engine_id": 2,
      "engine_uuid": "dd882645-1eaded029c36fc50388f7517",
      "error": null,
      "execute_input": "import time\ntime.sleep(1)\ntime.time()",
      "execute_result": {
       "data": {
        "text/plain": "1610425930.3498662"
       },
       "execution_count": 11,
       "metadata": {}
      },
      "follow": [],
      "msg_id": "ce92e890-3336a623002595eb161ce24a_131",
      "outputs": [],
      "received": "2021-01-12T04:32:10.354846",
      "started": "2021-01-12T04:32:09.348335",
      "status": "ok",
      "stderr": "",
      "stdout": "",
      "submitted": "2021-01-12T04:32:09.344345"
     },
     "output_type": "display_data"
    },
    {
     "data": {
      "text/plain": [
       "\u001b[0;31mOut[3:10]: \u001b[0m1610425930.3498662"
      ]
     },
     "metadata": {
      "after": [],
      "completed": "2021-01-12T04:32:10.350856",
      "data": {},
      "engine_id": 3,
      "engine_uuid": "60b55cf8-44974e87e765c037c8d22450",
      "error": null,
      "execute_input": "import time\ntime.sleep(1)\ntime.time()",
      "execute_result": {
       "data": {
        "text/plain": "1610425930.3498662"
       },
       "execution_count": 10,
       "metadata": {}
      },
      "follow": [],
      "msg_id": "ce92e890-3336a623002595eb161ce24a_132",
      "outputs": [],
      "received": "2021-01-12T04:32:10.353849",
      "started": "2021-01-12T04:32:09.348335",
      "status": "ok",
      "stderr": "",
      "stdout": "",
      "submitted": "2021-01-12T04:32:09.345342"
     },
     "output_type": "display_data"
    }
   ],
   "source": [
    "%pxresult"
   ]
  },
  {
   "cell_type": "code",
   "execution_count": null,
   "metadata": {},
   "outputs": [],
   "source": []
  }
 ],
 "metadata": {
  "kernelspec": {
   "display_name": "Python 3",
   "language": "python",
   "name": "python3"
  },
  "language_info": {
   "codemirror_mode": {
    "name": "ipython",
    "version": 3
   },
   "file_extension": ".py",
   "mimetype": "text/x-python",
   "name": "python",
   "nbconvert_exporter": "python",
   "pygments_lexer": "ipython3",
   "version": "3.6.11"
  }
 },
 "nbformat": 4,
 "nbformat_minor": 4
}
