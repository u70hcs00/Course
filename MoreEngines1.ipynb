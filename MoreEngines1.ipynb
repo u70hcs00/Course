{
 "cells": [
  {
   "cell_type": "markdown",
   "metadata": {},
   "source": [
    "Most of the post at PyBroMo's wiki work in current setting.\n",
    "When the controller and engines are running on different hosts,\n",
    "things are slightly more complicated, but the underlying ideas   \n",
    "are the same:\n",
    "\n",
    "1 Setup the controller\n",
    "Create an IPython profile (ex: remote)\n",
    "ipython profile create --parallel --profile=remote\n",
    "Now, each time we want to start a parallel computation,  \n",
    "we begin by starting the controller:\n",
    "ipcontroller --profile=remote --ip=140.117.35.xxx\n",
    "\n",
    "where the address is the controller ip address.\n",
    "\n",
    "This command creates a file ipcontroller-engine.json that   \n",
    "contains the connection info that the other machines need in  \n",
    "order to connect to the controller. The file is located in   \n",
    "IPYTHONDIR/profile_remote/security.\n",
    "\n",
    "(In fact, we could use the following command to start 3   \n",
    "engines and create the needed information to the file   \n",
    "ipcontroller-engine.json.)\n",
    "\n",
    "ipcluster start -n 3 --profile=remote --ip=140.117.35.xxx\n",
    "\n",
    "We need to copy ipcontroller-engine.json to the slave machines\n",
    "after the slave machine has been setted up.\n",
    "\n",
    "2 Setup the \"slave\" machine Create an IPython profile   \n",
    "(ex: remote) at slave machine.\n",
    "\n",
    "ipython profile create --parallel --profile=remote\n",
    "\n",
    "Paste ipcontroller-engine.json under   \n",
    "IPYTHONDIR/profile_remote/security at the slave machine\n",
    "\n",
    "We can start a computation engine with the ipengine command\n",
    "\n",
    "ipengine --profile=remote\n",
    "\n",
    "Or you can use the following way to provide the file directly.\n",
    "\n",
    "ipengine --profile=remote --file=C:IPYTHONDIR/profile_remote/security/ipcontroller-engine.json\n",
    "\n",
    "3 Create as many slave machines as you wish as in step 2.\n",
    "\n",
    "4 Request Client as below from the cluster \"remote\"."
   ]
  },
  {
   "cell_type": "code",
   "execution_count": 1,
   "metadata": {},
   "outputs": [
    {
     "name": "stdout",
     "output_type": "stream",
     "text": [
      "[0, 1, 2, 5]\n"
     ]
    }
   ],
   "source": [
    "import ipyparallel as ipp\n",
    "import numpy as np\n",
    "c = ipp.Client(profile='remote')\n",
    "print(c.ids)"
   ]
  },
  {
   "cell_type": "code",
   "execution_count": 2,
   "metadata": {},
   "outputs": [],
   "source": [
    "dview = c[:]"
   ]
  },
  {
   "cell_type": "markdown",
   "metadata": {},
   "source": [
    "We have now 4 engines!   \n",
    "Make sure you paste rank_mpi.py to remote machine."
   ]
  },
  {
   "cell_type": "code",
   "execution_count": 3,
   "metadata": {},
   "outputs": [
    {
     "data": {
      "text/plain": [
       "<AsyncResult: execute>"
      ]
     },
     "execution_count": 3,
     "metadata": {},
     "output_type": "execute_result"
    }
   ],
   "source": [
    "dview.run('rank_mpi.py')"
   ]
  },
  {
   "cell_type": "code",
   "execution_count": 4,
   "metadata": {},
   "outputs": [],
   "source": [
    "%px totalhost = hostname()"
   ]
  },
  {
   "cell_type": "code",
   "execution_count": 5,
   "metadata": {},
   "outputs": [
    {
     "data": {
      "text/plain": [
       "['DESKTOP-10711', 'DESKTOP-10711', 'DESKTOP-10711', 'LAPTOP-213RFLLM']"
      ]
     },
     "execution_count": 5,
     "metadata": {},
     "output_type": "execute_result"
    }
   ],
   "source": [
    "dview['totalhost']"
   ]
  },
  {
   "cell_type": "code",
   "execution_count": 6,
   "metadata": {},
   "outputs": [
    {
     "data": {
      "text/plain": [
       "[range(0, 3), range(3, 6), range(6, 8), range(8, 10)]"
      ]
     },
     "execution_count": 6,
     "metadata": {},
     "output_type": "execute_result"
    }
   ],
   "source": [
    "dview.scatter('a', range(10))\n",
    "dview['a']"
   ]
  },
  {
   "cell_type": "code",
   "execution_count": null,
   "metadata": {},
   "outputs": [],
   "source": []
  }
 ],
 "metadata": {
  "kernelspec": {
   "display_name": "Python 3",
   "language": "python",
   "name": "python3"
  },
  "language_info": {
   "codemirror_mode": {
    "name": "ipython",
    "version": 3
   },
   "file_extension": ".py",
   "mimetype": "text/x-python",
   "name": "python",
   "nbconvert_exporter": "python",
   "pygments_lexer": "ipython3",
   "version": "3.6.11"
  }
 },
 "nbformat": 4,
 "nbformat_minor": 4
}
