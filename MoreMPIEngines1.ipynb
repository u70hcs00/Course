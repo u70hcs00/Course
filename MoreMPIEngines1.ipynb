{
 "cells": [
  {
   "cell_type": "markdown",
   "metadata": {},
   "source": [
    "We want to start a cluster with MPI capability.  \n",
    "Bottom line is, you need to have a MPI capable cluster first.  \n",
    "Unfortunatly, my local machines do NOT support this.  \n",
    "MS provides a way to bulid cluster machine through MS HPC pack.  \n",
    "However, the head node needs to run Windows Server OS, which I don't have.  \n",
    "So, it can be done. "
   ]
  },
  {
   "cell_type": "markdown",
   "metadata": {},
   "source": [
    "* 1 Set up the MPI cluster in ipcluster_config.py  \n",
    "You specify 'cluster_id' and 'engine_launcher_class'\n",
    "\n",
    "c.BaseParallelApplication.cluster_id = 'mpi'  \n",
    "c.IPClusterEngines.engine_launcher_class = 'MPIEngineSetLauncher'  \n",
    "\n",
    "* 2 Launch the MPI cluster  \n",
    "\n",
    "ipcluster start -n 3 --profile=remote_mpi --ip=140.117.35.xxx"
   ]
  },
  {
   "cell_type": "code",
   "execution_count": 13,
   "metadata": {},
   "outputs": [
    {
     "name": "stdout",
     "output_type": "stream",
     "text": [
      "[0, 1, 2, 5, 6]\n"
     ]
    }
   ],
   "source": [
    "import ipyparallel as ipp\n",
    "import numpy as np\n",
    "c = ipp.Client(profile='remote_mpi', cluster_id='mpi')\n",
    "print(c.ids)"
   ]
  },
  {
   "cell_type": "markdown",
   "metadata": {},
   "source": [
    "* 3 Start more engines  \n",
    "The following will start two engines which belong to their own   \n",
    "MPI_COMM_WORLD.\n",
    "\n",
    "mpiexec -n 2 ipengine --profile=remote_mpi   \n",
    "  --file=C:\\Users\\adm\\.ipython\\profile_remote_mpi\\security\\ipcontroller-mpi-engine.json\n",
    "\n",
    "If you use ipengine --profile=remote_mpi ..., then you will have one  \n",
    "engine and an independent MPI_COMM_WORLD, no matter the new eigine(s)  \n",
    "is in the same machine which started the cluster or not.  \n",
    "  \n",
    "Document says that you could also specify in ipengine_config.py, e.g.\n",
    "\n",
    "c.IPEngineApp.url_file = 'C:\\Users\\adm\\.ipython\\profile_remote_mpi\\security\\ipcontroller-mpi-engine.json'  \n",
    "\n",
    "Note that ipcontroller-mpi-engine.json is from the local machine when mpi cluster is launched.  \n",
    "Pay attention to the name, it has \"mpi\" in it.  \n",
    "\n",
    "BUT IT DOES NOT WORK FOR ME!\n",
    "\n",
    "If you don't wish to specify the location od the xxx.json file in the command line when use mpiexec,  \n",
    "you will have to modify (at least in my case) the xxx.json file name to ipengine_config.py, no \"mpi\".\n",
    "\n",
    "\n"
   ]
  },
  {
   "cell_type": "code",
   "execution_count": 7,
   "metadata": {},
   "outputs": [
    {
     "name": "stdout",
     "output_type": "stream",
     "text": [
      "[0, 1, 2, 3, 4]\n"
     ]
    }
   ],
   "source": [
    "c = ipp.Client(profile='remote_mpi', cluster_id='mpi')\n",
    "print(c.ids)"
   ]
  },
  {
   "cell_type": "markdown",
   "metadata": {},
   "source": [
    "We have now 5 engines!"
   ]
  },
  {
   "cell_type": "code",
   "execution_count": 8,
   "metadata": {},
   "outputs": [
    {
     "data": {
      "text/plain": [
       "<AsyncResult: scatter>"
      ]
     },
     "execution_count": 8,
     "metadata": {},
     "output_type": "execute_result"
    }
   ],
   "source": [
    "dview = c[:]\n",
    "dview.scatter('a',np.arange(32,dtype='float64'))"
   ]
  },
  {
   "cell_type": "code",
   "execution_count": 9,
   "metadata": {},
   "outputs": [
    {
     "data": {
      "text/plain": [
       "[array([0., 1., 2., 3., 4., 5., 6.]),\n",
       " array([ 7.,  8.,  9., 10., 11., 12., 13.]),\n",
       " array([14., 15., 16., 17., 18., 19.]),\n",
       " array([20., 21., 22., 23., 24., 25.]),\n",
       " array([26., 27., 28., 29., 30., 31.])]"
      ]
     },
     "execution_count": 9,
     "metadata": {},
     "output_type": "execute_result"
    }
   ],
   "source": [
    "dview['a']"
   ]
  },
  {
   "cell_type": "code",
   "execution_count": 10,
   "metadata": {},
   "outputs": [
    {
     "data": {
      "text/plain": [
       "<AsyncResult: execute>"
      ]
     },
     "execution_count": 10,
     "metadata": {},
     "output_type": "execute_result"
    }
   ],
   "source": [
    "dview.run('psum.py')"
   ]
  },
  {
   "cell_type": "code",
   "execution_count": 11,
   "metadata": {},
   "outputs": [],
   "source": [
    "%px totalsum = psum(a)"
   ]
  },
  {
   "cell_type": "code",
   "execution_count": 12,
   "metadata": {},
   "outputs": [
    {
     "data": {
      "text/plain": [
       "[array(190.), array(190.), array(190.), array(306.), array(306.)]"
      ]
     },
     "execution_count": 12,
     "metadata": {},
     "output_type": "execute_result"
    }
   ],
   "source": [
    "dview['totalsum']"
   ]
  },
  {
   "cell_type": "code",
   "execution_count": null,
   "metadata": {},
   "outputs": [],
   "source": []
  }
 ],
 "metadata": {
  "kernelspec": {
   "display_name": "Python 3",
   "language": "python",
   "name": "python3"
  },
  "language_info": {
   "codemirror_mode": {
    "name": "ipython",
    "version": 3
   },
   "file_extension": ".py",
   "mimetype": "text/x-python",
   "name": "python",
   "nbconvert_exporter": "python",
   "pygments_lexer": "ipython3",
   "version": "3.6.11"
  }
 },
 "nbformat": 4,
 "nbformat_minor": 4
}
