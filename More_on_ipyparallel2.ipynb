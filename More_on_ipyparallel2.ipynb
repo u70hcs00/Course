{
 "cells": [
  {
   "cell_type": "code",
   "execution_count": 1,
   "metadata": {},
   "outputs": [],
   "source": [
    "import ipyparallel as ipp; import time\n",
    "c = ipp.Client()"
   ]
  },
  {
   "cell_type": "code",
   "execution_count": 2,
   "metadata": {},
   "outputs": [],
   "source": [
    "# default load-balanced view\n",
    "lview = c.load_balanced_view()\n",
    "dview = c[:] "
   ]
  },
  {
   "cell_type": "code",
   "execution_count": 3,
   "metadata": {},
   "outputs": [
    {
     "name": "stdout",
     "output_type": "stream",
     "text": [
      "load balance run time: 5.063442945480347 seconds\n",
      "5118400\n"
     ]
    }
   ],
   "source": [
    "# I have no idea why load balance takes longer time !\n",
    "lview.block = True\n",
    "t1 = time.time()\n",
    "parallel_result = lview.map(lambda x:x, range(3200))\n",
    "pp = sum(parallel_result)\n",
    "t2 = time.time()\n",
    "print('load balance run time: ' + str(t2-t1) + ' seconds')\n",
    "print(pp)"
   ]
  },
  {
   "cell_type": "code",
   "execution_count": 4,
   "metadata": {},
   "outputs": [
    {
     "name": "stdout",
     "output_type": "stream",
     "text": [
      "direct view run time: 0.012964248657226562 seconds\n",
      "5118400\n"
     ]
    }
   ],
   "source": [
    "dview.block = True\n",
    "t1 = time.time()\n",
    "parallel_result = dview.map(lambda x:x, range(3200))\n",
    "pp = sum(parallel_result)\n",
    "t2 = time.time()\n",
    "print('direct view run time: ' + str(t2-t1) + ' seconds')\n",
    "print(pp)"
   ]
  },
  {
   "cell_type": "code",
   "execution_count": 5,
   "metadata": {},
   "outputs": [],
   "source": [
    "@lview.parallel()\n",
    "def Lf(x):\n",
    "    return 10.0*x*4\n",
    "\n",
    "@dview.parallel()\n",
    "def Df(x):\n",
    "    return 10.0*x*4"
   ]
  },
  {
   "cell_type": "code",
   "execution_count": 6,
   "metadata": {},
   "outputs": [
    {
     "name": "stdout",
     "output_type": "stream",
     "text": [
      "load balance run time: 0.05824756622314453 seconds\n",
      "19840.0\n",
      "direct view run time: 0.010972023010253906 seconds\n",
      "19840.0\n"
     ]
    }
   ],
   "source": [
    "t1 = time.time()\n",
    "gg = sum(Lf.map(range(32)))\n",
    "t2 = time.time()\n",
    "print('load balance run time: ' + str(t2-t1) + ' seconds')\n",
    "print(gg)\n",
    "\n",
    "t1 = time.time()\n",
    "gg = sum(Df.map(range(32)))\n",
    "t2 = time.time()\n",
    "print('direct view run time: ' + str(t2-t1) + ' seconds')\n",
    "print(gg)"
   ]
  },
  {
   "cell_type": "code",
   "execution_count": null,
   "metadata": {},
   "outputs": [],
   "source": []
  }
 ],
 "metadata": {
  "kernelspec": {
   "display_name": "Python 3",
   "language": "python",
   "name": "python3"
  },
  "language_info": {
   "codemirror_mode": {
    "name": "ipython",
    "version": 3
   },
   "file_extension": ".py",
   "mimetype": "text/x-python",
   "name": "python",
   "nbconvert_exporter": "python",
   "pygments_lexer": "ipython3",
   "version": "3.6.11"
  }
 },
 "nbformat": 4,
 "nbformat_minor": 4
}
