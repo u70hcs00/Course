{
 "cells": [
  {
   "cell_type": "code",
   "execution_count": 1,
   "metadata": {},
   "outputs": [
    {
     "name": "stdout",
     "output_type": "stream",
     "text": [
      "[0, 1, 2, 3, 4]\n"
     ]
    }
   ],
   "source": [
    "import ipyparallel as ipp\n",
    "import numpy as np\n",
    "c = ipp.Client(profile='mpi3', cluster_id='mpi3')\n",
    "print(c.ids)\n",
    "dview = c[:]"
   ]
  },
  {
   "cell_type": "code",
   "execution_count": 2,
   "metadata": {},
   "outputs": [
    {
     "data": {
      "text/plain": [
       "<AsyncResult: scatter>"
      ]
     },
     "execution_count": 2,
     "metadata": {},
     "output_type": "execute_result"
    }
   ],
   "source": [
    "dview.scatter('a',np.arange(32,dtype='float64'))"
   ]
  },
  {
   "cell_type": "code",
   "execution_count": 3,
   "metadata": {},
   "outputs": [
    {
     "data": {
      "text/plain": [
       "[array([0., 1., 2., 3., 4., 5., 6.]),\n",
       " array([ 7.,  8.,  9., 10., 11., 12., 13.]),\n",
       " array([14., 15., 16., 17., 18., 19.]),\n",
       " array([20., 21., 22., 23., 24., 25.]),\n",
       " array([26., 27., 28., 29., 30., 31.])]"
      ]
     },
     "execution_count": 3,
     "metadata": {},
     "output_type": "execute_result"
    }
   ],
   "source": [
    "dview['a']"
   ]
  },
  {
   "cell_type": "code",
   "execution_count": 4,
   "metadata": {},
   "outputs": [
    {
     "data": {
      "text/plain": [
       "<AsyncResult: execute>"
      ]
     },
     "execution_count": 4,
     "metadata": {},
     "output_type": "execute_result"
    }
   ],
   "source": [
    "# run the contents of the file on each engine:\n",
    "dview.run('psum.py')"
   ]
  },
  {
   "cell_type": "code",
   "execution_count": 5,
   "metadata": {},
   "outputs": [],
   "source": [
    "%px totalsum = psum(a)"
   ]
  },
  {
   "cell_type": "code",
   "execution_count": 6,
   "metadata": {},
   "outputs": [
    {
     "data": {
      "text/plain": [
       "[array(496.), array(496.), array(496.), array(496.), array(496.)]"
      ]
     },
     "execution_count": 6,
     "metadata": {},
     "output_type": "execute_result"
    }
   ],
   "source": [
    "dview['totalsum']"
   ]
  },
  {
   "cell_type": "code",
   "execution_count": 7,
   "metadata": {},
   "outputs": [
    {
     "data": {
      "text/plain": [
       "<AsyncResult: execute>"
      ]
     },
     "execution_count": 7,
     "metadata": {},
     "output_type": "execute_result"
    }
   ],
   "source": [
    "dview.run('rank_mpi.py')"
   ]
  },
  {
   "cell_type": "code",
   "execution_count": 8,
   "metadata": {},
   "outputs": [],
   "source": [
    "%px totalrank = myrank()"
   ]
  },
  {
   "cell_type": "code",
   "execution_count": 9,
   "metadata": {},
   "outputs": [
    {
     "data": {
      "text/plain": [
       "[0, 1, 2, 3, 4]"
      ]
     },
     "execution_count": 9,
     "metadata": {},
     "output_type": "execute_result"
    }
   ],
   "source": [
    "dview['totalrank']"
   ]
  },
  {
   "cell_type": "code",
   "execution_count": 10,
   "metadata": {},
   "outputs": [],
   "source": [
    "%px totalhost = hostname()"
   ]
  },
  {
   "cell_type": "code",
   "execution_count": 11,
   "metadata": {},
   "outputs": [
    {
     "data": {
      "text/plain": [
       "['DESKTOP-10711',\n",
       " 'DESKTOP-10711',\n",
       " 'DESKTOP-10711',\n",
       " 'DESKTOP-10711',\n",
       " 'DESKTOP-10711']"
      ]
     },
     "execution_count": 11,
     "metadata": {},
     "output_type": "execute_result"
    }
   ],
   "source": [
    "dview['totalhost']"
   ]
  },
  {
   "cell_type": "code",
   "execution_count": 12,
   "metadata": {},
   "outputs": [],
   "source": [
    "%px totalpid = mypid()"
   ]
  },
  {
   "cell_type": "code",
   "execution_count": 13,
   "metadata": {},
   "outputs": [
    {
     "data": {
      "text/plain": [
       "[3260, 6048, 20124, 10388, 7332]"
      ]
     },
     "execution_count": 13,
     "metadata": {},
     "output_type": "execute_result"
    }
   ],
   "source": [
    "dview['totalpid']"
   ]
  },
  {
   "cell_type": "code",
   "execution_count": 14,
   "metadata": {},
   "outputs": [
    {
     "data": {
      "text/plain": [
       "\u001b[0;31mOut[0:10]: \u001b[0mTrue"
      ]
     },
     "metadata": {
      "after": [],
      "completed": "2021-01-19T08:24:39.518469",
      "data": {},
      "engine_id": 0,
      "engine_uuid": "0c9f7235-bede7ef79cefd10da793c8e4",
      "error": null,
      "execute_input": "mysendOneToZero()",
      "execute_result": {
       "data": {
        "text/plain": "True"
       },
       "execution_count": 10,
       "metadata": {}
      },
      "follow": [],
      "msg_id": "f7287f71-0b407dbd4d9ab6f8d8dbf822_61",
      "outputs": [],
      "received": "2021-01-19T08:24:39.521495",
      "started": "2021-01-19T08:24:39.511488",
      "status": "ok",
      "stderr": "",
      "stdout": "",
      "submitted": "2021-01-19T08:24:39.508495"
     },
     "output_type": "display_data"
    },
    {
     "data": {
      "text/plain": [
       "\u001b[0;31mOut[1:10]: \u001b[0mTrue"
      ]
     },
     "metadata": {
      "after": [],
      "completed": "2021-01-19T08:24:39.515477",
      "data": {},
      "engine_id": 1,
      "engine_uuid": "57625c28-fa209bf971a3ca1c10ea9fb8",
      "error": null,
      "execute_input": "mysendOneToZero()",
      "execute_result": {
       "data": {
        "text/plain": "True"
       },
       "execution_count": 10,
       "metadata": {}
      },
      "follow": [],
      "msg_id": "f7287f71-0b407dbd4d9ab6f8d8dbf822_62",
      "outputs": [],
      "received": "2021-01-19T08:24:39.519466",
      "started": "2021-01-19T08:24:39.512485",
      "status": "ok",
      "stderr": "",
      "stdout": "",
      "submitted": "2021-01-19T08:24:39.508495"
     },
     "output_type": "display_data"
    },
    {
     "data": {
      "text/plain": [
       "\u001b[0;31mOut[2:10]: \u001b[0mTrue"
      ]
     },
     "metadata": {
      "after": [],
      "completed": "2021-01-19T08:24:39.515477",
      "data": {},
      "engine_id": 2,
      "engine_uuid": "5aed2a88-443887c23a7cff6c9215f73d",
      "error": null,
      "execute_input": "mysendOneToZero()",
      "execute_result": {
       "data": {
        "text/plain": "True"
       },
       "execution_count": 10,
       "metadata": {}
      },
      "follow": [],
      "msg_id": "f7287f71-0b407dbd4d9ab6f8d8dbf822_63",
      "outputs": [],
      "received": "2021-01-19T08:24:39.530442",
      "started": "2021-01-19T08:24:39.512485",
      "status": "ok",
      "stderr": "",
      "stdout": "",
      "submitted": "2021-01-19T08:24:39.509493"
     },
     "output_type": "display_data"
    },
    {
     "data": {
      "text/plain": [
       "\u001b[0;31mOut[3:10]: \u001b[0mTrue"
      ]
     },
     "metadata": {
      "after": [],
      "completed": "2021-01-19T08:24:39.515477",
      "data": {},
      "engine_id": 3,
      "engine_uuid": "77a8dfbb-bdaa355d1f02e69e2144f0ea",
      "error": null,
      "execute_input": "mysendOneToZero()",
      "execute_result": {
       "data": {
        "text/plain": "True"
       },
       "execution_count": 10,
       "metadata": {}
      },
      "follow": [],
      "msg_id": "f7287f71-0b407dbd4d9ab6f8d8dbf822_64",
      "outputs": [],
      "received": "2021-01-19T08:24:39.528447",
      "started": "2021-01-19T08:24:39.512485",
      "status": "ok",
      "stderr": "",
      "stdout": "",
      "submitted": "2021-01-19T08:24:39.509493"
     },
     "output_type": "display_data"
    },
    {
     "data": {
      "text/plain": [
       "\u001b[0;31mOut[4:10]: \u001b[0mTrue"
      ]
     },
     "metadata": {
      "after": [],
      "completed": "2021-01-19T08:24:39.515477",
      "data": {},
      "engine_id": 4,
      "engine_uuid": "25bdb9d4-aabe259ae255a94757bde4bb",
      "error": null,
      "execute_input": "mysendOneToZero()",
      "execute_result": {
       "data": {
        "text/plain": "True"
       },
       "execution_count": 10,
       "metadata": {}
      },
      "follow": [],
      "msg_id": "f7287f71-0b407dbd4d9ab6f8d8dbf822_65",
      "outputs": [],
      "received": "2021-01-19T08:24:39.518469",
      "started": "2021-01-19T08:24:39.512485",
      "status": "ok",
      "stderr": "",
      "stdout": "",
      "submitted": "2021-01-19T08:24:39.509493"
     },
     "output_type": "display_data"
    }
   ],
   "source": [
    "%px mysendOneToZero()"
   ]
  },
  {
   "cell_type": "code",
   "execution_count": 15,
   "metadata": {},
   "outputs": [
    {
     "data": {
      "text/plain": [
       "[array([7.]), array([0.]), array([0.]), array([0.]), array([0.])]"
      ]
     },
     "execution_count": 15,
     "metadata": {},
     "output_type": "execute_result"
    }
   ],
   "source": [
    "dview['d']"
   ]
  },
  {
   "cell_type": "code",
   "execution_count": 16,
   "metadata": {},
   "outputs": [
    {
     "data": {
      "text/plain": [
       "<AsyncResult: execute>"
      ]
     },
     "execution_count": 16,
     "metadata": {},
     "output_type": "execute_result"
    }
   ],
   "source": [
    "dview.run('mpi1_py/blocking_send.py')"
   ]
  },
  {
   "cell_type": "code",
   "execution_count": 17,
   "metadata": {},
   "outputs": [
    {
     "data": {
      "text/plain": [
       "[array([3]), array([3]), array([0]), array([0]), array([0])]"
      ]
     },
     "execution_count": 17,
     "metadata": {},
     "output_type": "execute_result"
    }
   ],
   "source": [
    "dview['bb']"
   ]
  },
  {
   "cell_type": "code",
   "execution_count": 18,
   "metadata": {},
   "outputs": [
    {
     "name": "stdout",
     "output_type": "stream",
     "text": [
      "[0 0 0 0 0 0 0 0 0 0 1 1 1 1 1 1 1 1 1 1 2 2 2 2 2 2 2 2 2 2 3 3 3 3 3 3 3\n",
      " 3 3 3]\n"
     ]
    }
   ],
   "source": [
    "f = open('mpi_IO', 'rb')\n",
    "a = np.fromfile(f, dtype=np.int)\n",
    "print(a)"
   ]
  },
  {
   "cell_type": "code",
   "execution_count": null,
   "metadata": {},
   "outputs": [],
   "source": []
  }
 ],
 "metadata": {
  "kernelspec": {
   "display_name": "Python 3",
   "language": "python",
   "name": "python3"
  },
  "language_info": {
   "codemirror_mode": {
    "name": "ipython",
    "version": 3
   },
   "file_extension": ".py",
   "mimetype": "text/x-python",
   "name": "python",
   "nbconvert_exporter": "python",
   "pygments_lexer": "ipython3",
   "version": "3.6.11"
  }
 },
 "nbformat": 4,
 "nbformat_minor": 4
}
